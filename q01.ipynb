{
  "nbformat": 4,
  "nbformat_minor": 0,
  "metadata": {
    "colab": {
      "name": "q01.ipynb",
      "provenance": [],
      "authorship_tag": "ABX9TyNsfkfHbIRtFV03PDVIcPH1",
      "include_colab_link": true
    },
    "kernelspec": {
      "name": "python3",
      "display_name": "Python 3"
    },
    "language_info": {
      "name": "python"
    }
  },
  "cells": [
    {
      "cell_type": "markdown",
      "metadata": {
        "id": "view-in-github",
        "colab_type": "text"
      },
      "source": [
        "<a href=\"https://colab.research.google.com/github/NomotoRyoma/MathPuzzle/blob/main/q01.ipynb\" target=\"_parent\"><img src=\"https://colab.research.google.com/assets/colab-badge.svg\" alt=\"Open In Colab\"/></a>"
      ]
    },
    {
      "cell_type": "code",
      "execution_count": 3,
      "metadata": {
        "colab": {
          "base_uri": "https://localhost:8080/"
        },
        "id": "zYHZPPtRl5Xc",
        "outputId": "b024726c-7280-4bb3-dc40-e24a9e1b2bd8"
      },
      "outputs": [
        {
          "output_type": "stream",
          "name": "stdout",
          "text": [
            "OK 585\n",
            "0.00322723388671875\n"
          ]
        }
      ],
      "source": [
        "# Q01\n",
        "# 10進数で回文\n",
        "#\n",
        "# 自分の解き方\n",
        "# 1. forで10から1ずつプラスしていく\n",
        "# 2. 10進数の値が、回文かどうか\n",
        "#    →回文であれば、3に。回文でなければ、次のforに\n",
        "# 3. 2進数の値が、回文か？か？\n",
        "#    →回文であれば4に。回文でなければ次のforに。。\n",
        "# 4. 8進数の値が回文か？\n",
        "#    →回文であれば、その10進数が答え。答え。\n",
        "\n",
        "def is_palindrome(char_number):\n",
        "  #char_number = str(number)\n",
        "  half_length = int(len(char_number)/2)\n",
        "\n",
        "  for i in range(half_length):\n",
        "    if char_number[i] != char_number[len(char_number)-1-i]:\n",
        "      return False\n",
        "  \n",
        "  return True\n",
        "\n",
        "\n",
        "import time\n",
        "\n",
        "time_start = time.time()\n",
        "number = 11\n",
        "is_all_palindrome = True\n",
        "\n",
        "while is_all_palindrome:\n",
        "  if not is_palindrome(str(number)):\n",
        "    number += 2\n",
        "    continue\n",
        "  \n",
        "  binary_number = '{:b}'.format(number)\n",
        "  if not is_palindrome(binary_number):\n",
        "    number += 2\n",
        "    continue\n",
        "  \n",
        "  octal_number = '{:o}'.format(number)\n",
        "  if not is_palindrome(octal_number):\n",
        "    number += 2\n",
        "    continue\n",
        "  \n",
        "  print('OK', number)\n",
        "  time_end = time.time()\n",
        "  process_time = time_end - time_start\n",
        "  print(process_time)\n",
        "  break\n"
      ]
    },
    {
      "cell_type": "code",
      "source": [
        "# 他の人の解答\n",
        "\n",
        "\"\"\"\n",
        "Q01\n",
        "\"\"\"\n",
        "\n",
        "import time\n",
        "start_time = time.time()\n",
        "\n",
        "# 偶数は、二進数に変換後の回文で0始まりとなってしまう\n",
        "# 奇数が解の対象となる\n",
        "N = 11\n",
        "\n",
        "while True:\n",
        "    # フォーマット済み文字列リテラルを使用して、二進数、八進数に変換する\n",
        "    dec_s, oct_s, bin_s = f'{N}', f'{N:o}', f'{N:b}'\n",
        "\n",
        "    # ストライドを-1にすると逆順となる\n",
        "    if dec_s == dec_s[::-1] and oct_s == oct_s[::-1] and bin_s == bin_s[::-1]:\n",
        "        print(N)\n",
        "        end_time = time.time()\n",
        "        process_time = end_time - start_time\n",
        "        print(process_time)\n",
        "        break\n",
        "\n",
        "    N += 2"
      ],
      "metadata": {
        "id": "hMdBySB6MRcB",
        "colab": {
          "base_uri": "https://localhost:8080/"
        },
        "outputId": "34824c15-dbd7-4b6f-8838-1e229652160e"
      },
      "execution_count": 7,
      "outputs": [
        {
          "output_type": "stream",
          "name": "stdout",
          "text": [
            "585\n",
            "0.0009472370147705078\n"
          ]
        }
      ]
    }
  ]
}
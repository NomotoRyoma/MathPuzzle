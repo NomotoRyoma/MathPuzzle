{
  "nbformat": 4,
  "nbformat_minor": 0,
  "metadata": {
    "colab": {
      "name": "q01.ipynb",
      "provenance": [],
      "authorship_tag": "ABX9TyMdtaA9Vl0vUOihzLi1adw1",
      "include_colab_link": true
    },
    "kernelspec": {
      "name": "python3",
      "display_name": "Python 3"
    },
    "language_info": {
      "name": "python"
    }
  },
  "cells": [
    {
      "cell_type": "markdown",
      "metadata": {
        "id": "view-in-github",
        "colab_type": "text"
      },
      "source": [
        "<a href=\"https://colab.research.google.com/github/NomotoRyoma/MathPuzzle/blob/main/q01.ipynb\" target=\"_parent\"><img src=\"https://colab.research.google.com/assets/colab-badge.svg\" alt=\"Open In Colab\"/></a>"
      ]
    },
    {
      "cell_type": "code",
      "execution_count": null,
      "metadata": {
        "colab": {
          "base_uri": "https://localhost:8080/"
        },
        "id": "zYHZPPtRl5Xc",
        "outputId": "a26c0a98-d984-476e-fa56-9c93beb6f98b"
      },
      "outputs": [
        {
          "output_type": "stream",
          "name": "stdout",
          "text": [
            "OK 585\n",
            "0.0028083324432373047\n"
          ]
        }
      ],
      "source": [
        "# Q01\n",
        "# 10進数で回文\n",
        "#\n",
        "# 自分の解き方\n",
        "# 1. forで10から1ずつプラスしていく\n",
        "# 2. 10進数の値が、回文かどうか\n",
        "#    →回文であれば、3に。回文でなければ、次のforに\n",
        "# 3. 2進数の値が、回文か？か？\n",
        "#    →回文であれば4に。回文でなければ次のforに。。\n",
        "# 4. 8進数の値が回文か？\n",
        "#    →回文であれば、その10進数が答え。答え。\n",
        "\n",
        "def is_palindrome(char_number):\n",
        "  #char_number = str(number)\n",
        "  half_length = int(len(char_number)/2)\n",
        "\n",
        "  for i in range(half_length):\n",
        "    if char_number[i] != char_number[len(char_number)-1-i]:\n",
        "      return False\n",
        "  \n",
        "  return True\n",
        "\n",
        "\n",
        "import time\n",
        "\n",
        "time_start = time.time()\n",
        "number = 11\n",
        "is_all_palindrome = True\n",
        "\n",
        "while is_all_palindrome:\n",
        "  if not is_palindrome(str(number)):\n",
        "    number += 2\n",
        "    continue\n",
        "  \n",
        "  binary_number = '{:b}'.format(number)\n",
        "  if not is_palindrome(binary_number):\n",
        "    number += 2\n",
        "    continue\n",
        "  \n",
        "  octal_number = '{:o}'.format(number)\n",
        "  if not is_palindrome(octal_number):\n",
        "    number += 2\n",
        "    continue\n",
        "  \n",
        "  print('OK', number)\n",
        "  time_end = time.time()\n",
        "  process_time = time_end - time_start\n",
        "  print(process_time)\n",
        "  break\n",
        "\n",
        "\n",
        "\n",
        "\n"
      ]
    },
    {
      "cell_type": "code",
      "source": [],
      "metadata": {
        "id": "hMdBySB6MRcB"
      },
      "execution_count": null,
      "outputs": []
    },
    {
      "cell_type": "code",
      "source": [],
      "metadata": {
        "id": "Iyx9WMwZytGh"
      },
      "execution_count": null,
      "outputs": []
    }
  ]
}